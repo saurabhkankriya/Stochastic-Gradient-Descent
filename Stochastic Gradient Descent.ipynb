{
 "cells": [
  {
   "cell_type": "markdown",
   "metadata": {},
   "source": [
    "**Objective**:\n",
    "Implementing Stochastic Gradient Descent from scratch for Linear Regression"
   ]
  },
  {
   "cell_type": "markdown",
   "metadata": {},
   "source": [
    "**Some Terminologies** (references at the bottom)\n",
    "1. **Gradient** means the rate of inclination or declination of a slope.\n",
    "2. **Descent** means the instance of descending.\n",
    "3. **iterative** means that we need to get the results multiple times to get the most optimal result. \n",
    "4. One **epoch** is when an ENTIRE dataset is passed to the model\n",
    "5. **batch size** is the number of training examples present in a single batch\n",
    "6. **Iterations** is the number of batches needed to complete one epoch.\n",
    "\n",
    "**Note:** The number of batches is equal to number of iterations for one epoch.\n",
    "\n",
    "**Example:** Let’s say we have 2000 training examples that we are going to use .\n",
    "\n",
    "We can divide the dataset of 2000 examples into batches of 500 then it will take 4 iterations to complete 1 epoch. Where Batch Size is 500 and Iterations is 4, for 1 complete epoch."
   ]
  },
  {
   "cell_type": "markdown",
   "metadata": {},
   "source": [
    "In Gradient Descent, the weights are updated after all the training data has been passed through the model. In Stochastic Gradient Descent, the weights are updated after each sample passes the model. The samples are updated after every epoch."
   ]
  },
  {
   "cell_type": "code",
   "execution_count": 1,
   "metadata": {
    "ExecuteTime": {
     "end_time": "2019-04-09T10:36:19.223694Z",
     "start_time": "2019-04-09T10:36:18.191585Z"
    }
   },
   "outputs": [],
   "source": [
    "import warnings\n",
    "warnings.filterwarnings(\"ignore\")\n",
    "from sklearn.datasets import load_boston\n",
    "from random import seed\n",
    "from random import randrange\n",
    "from csv import reader\n",
    "from math import sqrt\n",
    "from sklearn import preprocessing\n",
    "from sklearn.preprocessing import StandardScaler\n",
    "import pandas as pd\n",
    "import numpy as np\n",
    "import matplotlib.pyplot as plt\n",
    "from prettytable import PrettyTable\n",
    "from sklearn.linear_model import SGDRegressor\n",
    "from sklearn import preprocessing\n",
    "from sklearn.metrics import mean_squared_error\n",
    "\n",
    "np.random.seed(507)  "
   ]
  },
  {
   "cell_type": "code",
   "execution_count": 2,
   "metadata": {
    "ExecuteTime": {
     "end_time": "2019-04-09T10:36:19.347922Z",
     "start_time": "2019-04-09T10:36:19.337895Z"
    }
   },
   "outputs": [],
   "source": [
    "# loading the inbuilt boston housing dataset\n",
    "from sklearn.datasets import load_boston   \n",
    "boston = load_boston()"
   ]
  },
  {
   "cell_type": "code",
   "execution_count": 3,
   "metadata": {
    "ExecuteTime": {
     "end_time": "2019-04-09T10:36:19.907322Z",
     "start_time": "2019-04-09T10:36:19.895291Z"
    }
   },
   "outputs": [
    {
     "name": "stdout",
     "output_type": "stream",
     "text": [
      "        0     1     2    3      4      5     6       7    8      9     10  \\\n",
      "0  0.00632  18.0  2.31  0.0  0.538  6.575  65.2  4.0900  1.0  296.0  15.3   \n",
      "1  0.02731   0.0  7.07  0.0  0.469  6.421  78.9  4.9671  2.0  242.0  17.8   \n",
      "2  0.02729   0.0  7.07  0.0  0.469  7.185  61.1  4.9671  2.0  242.0  17.8   \n",
      "3  0.03237   0.0  2.18  0.0  0.458  6.998  45.8  6.0622  3.0  222.0  18.7   \n",
      "4  0.06905   0.0  2.18  0.0  0.458  7.147  54.2  6.0622  3.0  222.0  18.7   \n",
      "\n",
      "       11    12  \n",
      "0  396.90  4.98  \n",
      "1  396.90  9.14  \n",
      "2  392.83  4.03  \n",
      "3  394.63  2.94  \n",
      "4  396.90  5.33  \n"
     ]
    }
   ],
   "source": [
    "# Shape of the data\n",
    "#print(boston.data.shape)\n",
    "\n",
    "# print the column names\n",
    "#print(boston.feature_names)\n",
    "\n",
    "# print the target data\n",
    "#print(boston.target)\n",
    "\n",
    "#print(boston.DESCR)\n",
    "\n",
    "# converting the boston dataset into dataframe\n",
    "import pandas as pd\n",
    "boston_df = pd.DataFrame(boston.data)\n",
    "print(boston_df.head())"
   ]
  },
  {
   "cell_type": "code",
   "execution_count": 4,
   "metadata": {
    "ExecuteTime": {
     "end_time": "2019-04-09T10:36:20.826582Z",
     "start_time": "2019-04-09T10:36:20.823576Z"
    }
   },
   "outputs": [],
   "source": [
    "# Creating independent variable X and dependent variable y out of the boston data\n",
    "X = boston.data\n",
    "y = boston.target"
   ]
  },
  {
   "cell_type": "markdown",
   "metadata": {},
   "source": [
    "**Standardize the data**: We will standardize the data so that our sgd converges faster\n"
   ]
  },
  {
   "cell_type": "code",
   "execution_count": 5,
   "metadata": {
    "ExecuteTime": {
     "end_time": "2019-04-09T10:36:22.427566Z",
     "start_time": "2019-04-09T10:36:22.423558Z"
    },
    "run_control": {
     "marked": false
    }
   },
   "outputs": [],
   "source": [
    "# Standardizing the data\n",
    "standardised_boston_data = StandardScaler().fit_transform(X)"
   ]
  },
  {
   "cell_type": "markdown",
   "metadata": {},
   "source": [
    "**Stochastic Gradient Descent from scratch**\n",
    "\n",
    "1. Pick random example.\n",
    "2. Train on it. Adjust params immediately.\n",
    "3. Repeat step 1 and 2 until best weights are obtained that reduce the error."
   ]
  },
  {
   "cell_type": "markdown",
   "metadata": {},
   "source": [
    "The equation of linear regression is given by:"
   ]
  },
  {
   "cell_type": "markdown",
   "metadata": {},
   "source": [
    "**y = W0 + W1.x1 + W2.x2 + .. + WnXn**"
   ]
  },
  {
   "cell_type": "markdown",
   "metadata": {},
   "source": [
    "Here,\n",
    "\n",
    "* **n** is the number of features \n",
    "* **W** is the weight of each feature x\n",
    "* **y** is the dependent variable\n",
    "\n",
    "We can express the above equation as the dot-product of W and X, but there is a missing term x0. As a result, the length of W and X wont match.So we will create a vector x0 that will contain ones and concatenate it to existing X."
   ]
  },
  {
   "cell_type": "code",
   "execution_count": 6,
   "metadata": {
    "ExecuteTime": {
     "end_time": "2019-04-09T10:36:24.700941Z",
     "start_time": "2019-04-09T10:36:24.694924Z"
    }
   },
   "outputs": [
    {
     "data": {
      "text/plain": [
       "(506, 13)"
      ]
     },
     "execution_count": 6,
     "metadata": {},
     "output_type": "execute_result"
    }
   ],
   "source": [
    "# Shape before adding x0\n",
    "standardised_boston_data.shape"
   ]
  },
  {
   "cell_type": "code",
   "execution_count": 7,
   "metadata": {
    "ExecuteTime": {
     "end_time": "2019-04-09T10:36:27.218457Z",
     "start_time": "2019-04-09T10:36:27.215447Z"
    }
   },
   "outputs": [],
   "source": [
    "# Adding feature x0 which contains 1 to existing standardized X_train using np.c_\n",
    "standardised_boston_data = np.c_[np.ones((standardised_boston_data.shape[0], 1)), standardised_boston_data]  "
   ]
  },
  {
   "cell_type": "code",
   "execution_count": 8,
   "metadata": {
    "ExecuteTime": {
     "end_time": "2019-04-09T10:36:28.667485Z",
     "start_time": "2019-04-09T10:36:28.663503Z"
    }
   },
   "outputs": [
    {
     "data": {
      "text/plain": [
       "(506, 14)"
      ]
     },
     "execution_count": 8,
     "metadata": {},
     "output_type": "execute_result"
    }
   ],
   "source": [
    "standardised_boston_data.shape"
   ]
  },
  {
   "cell_type": "code",
   "execution_count": 9,
   "metadata": {
    "ExecuteTime": {
     "end_time": "2019-04-09T10:36:45.051190Z",
     "start_time": "2019-04-09T10:36:45.047177Z"
    }
   },
   "outputs": [
    {
     "data": {
      "text/plain": [
       "(506, 14)"
      ]
     },
     "execution_count": 9,
     "metadata": {},
     "output_type": "execute_result"
    }
   ],
   "source": [
    "# Shape after adding x0\n",
    "standardised_boston_data.shape"
   ]
  },
  {
   "cell_type": "code",
   "execution_count": 10,
   "metadata": {
    "ExecuteTime": {
     "end_time": "2019-04-09T10:36:49.843650Z",
     "start_time": "2019-04-09T10:36:49.839640Z"
    },
    "scrolled": true
   },
   "outputs": [
    {
     "data": {
      "text/plain": [
       "array([[ 1.        , -0.41978194,  0.28482986, -1.2879095 , -0.27259857,\n",
       "        -0.14421743,  0.41367189, -0.12001342,  0.1402136 , -0.98284286,\n",
       "        -0.66660821, -1.45900038,  0.44105193, -1.0755623 ],\n",
       "       [ 1.        , -0.41733926, -0.48772236, -0.59338101, -0.27259857,\n",
       "        -0.74026221,  0.19427445,  0.36716642,  0.55715988, -0.8678825 ,\n",
       "        -0.98732948, -0.30309415,  0.44105193, -0.49243937]])"
      ]
     },
     "execution_count": 10,
     "metadata": {},
     "output_type": "execute_result"
    }
   ],
   "source": [
    "# take a look at the X_train data\n",
    "standardised_boston_data[0:2]"
   ]
  },
  {
   "cell_type": "code",
   "execution_count": 11,
   "metadata": {
    "ExecuteTime": {
     "end_time": "2019-04-09T10:36:53.067052Z",
     "start_time": "2019-04-09T10:36:53.063042Z"
    }
   },
   "outputs": [
    {
     "data": {
      "text/plain": [
       "array([24. , 21.6, 34.7, 33.4, 36.2, 28.7, 22.9, 27.1, 16.5, 18.9])"
      ]
     },
     "execution_count": 11,
     "metadata": {},
     "output_type": "execute_result"
    }
   ],
   "source": [
    "y[0:10]"
   ]
  },
  {
   "cell_type": "markdown",
   "metadata": {},
   "source": [
    "**Now we have shape of X same as our weight vector W**"
   ]
  },
  {
   "cell_type": "code",
   "execution_count": 12,
   "metadata": {
    "ExecuteTime": {
     "end_time": "2019-04-09T10:36:59.497789Z",
     "start_time": "2019-04-09T10:36:59.495786Z"
    }
   },
   "outputs": [],
   "source": [
    "# Initialising weight vector with normally distributed values of shape of the features of X\n",
    "W = np.random.normal(0,1,standardised_boston_data.shape[1])"
   ]
  },
  {
   "cell_type": "code",
   "execution_count": 13,
   "metadata": {
    "ExecuteTime": {
     "end_time": "2019-04-09T10:37:11.712457Z",
     "start_time": "2019-04-09T10:37:11.703433Z"
    }
   },
   "outputs": [
    {
     "data": {
      "text/plain": [
       "array([ 2.25328063e+01, -9.28146064e-01,  1.08156863e+00,  1.40899997e-01,\n",
       "        6.81739725e-01, -2.05671827e+00,  2.67423017e+00,  1.94660717e-02,\n",
       "       -3.10404426e+00,  2.66221764e+00, -2.07678168e+00, -2.06060666e+00,\n",
       "        8.49268418e-01, -3.74362713e+00])"
      ]
     },
     "execution_count": 13,
     "metadata": {},
     "output_type": "execute_result"
    }
   ],
   "source": [
    "# best W as per theory\n",
    "W_best_theory = np.linalg.inv(standardised_boston_data.T.dot(standardised_boston_data)).dot(standardised_boston_data.T).dot(y)\n",
    "W_best_theory"
   ]
  },
  {
   "cell_type": "code",
   "execution_count": null,
   "metadata": {
    "ExecuteTime": {
     "end_time": "2019-04-09T06:30:32.069124Z",
     "start_time": "2019-04-09T06:30:32.059572Z"
    }
   },
   "outputs": [],
   "source": [
    "from tqdm import tqdm"
   ]
  },
  {
   "cell_type": "markdown",
   "metadata": {},
   "source": [
    "**1. Implement your own version of SGDRegressor**"
   ]
  },
  {
   "cell_type": "code",
   "execution_count": 23,
   "metadata": {
    "ExecuteTime": {
     "end_time": "2019-04-09T10:43:28.212564Z",
     "start_time": "2019-04-09T10:43:28.208556Z"
    }
   },
   "outputs": [],
   "source": [
    "def gradient_descent(X, y, W, learning_rate):\n",
    "    \n",
    "    from sklearn.metrics import mean_squared_error\n",
    "    import numpy as np\n",
    "    weights = W\n",
    "    b_curr = 0\n",
    "    iterations = 10000\n",
    "    n = m = float(len(y))\n",
    " \n",
    "    \n",
    "    for i in range(iterations):\n",
    "        y_pred = X.dot(weights)\n",
    "        \n",
    "        cost_function = mean_squared_error(y_pred, y)       # Cost function taken is MSE\n",
    "        weight_derivative = 2 * X.T.dot(X.dot(weights) - y)          \n",
    "               \n",
    "        weights = weights - (learning_rate * weight_derivative)\n",
    "        if i % 1000 == 0:  #10000\n",
    "            #learning_rate= learning_rate/2\n",
    "            print('iteration: {}, cost: {}'.format(i, cost_function))\n",
    "            #print('y', y)\n",
    "            #print('X', X)\n",
    "    return weights    "
   ]
  },
  {
   "cell_type": "code",
   "execution_count": 24,
   "metadata": {
    "ExecuteTime": {
     "end_time": "2019-04-09T10:43:31.017289Z",
     "start_time": "2019-04-09T10:43:29.735904Z"
    }
   },
   "outputs": [
    {
     "name": "stdout",
     "output_type": "stream",
     "text": [
      "iteration: 0, cost: 629.4371378641337\n",
      "iteration: 1000, cost: 21.894834201406763\n",
      "iteration: 2000, cost: 21.894831181736777\n",
      "iteration: 3000, cost: 21.894831181729206\n",
      "iteration: 4000, cost: 21.894831181729202\n",
      "iteration: 5000, cost: 21.894831181729206\n",
      "iteration: 6000, cost: 21.894831181729206\n",
      "iteration: 7000, cost: 21.894831181729206\n",
      "iteration: 8000, cost: 21.894831181729206\n",
      "iteration: 9000, cost: 21.894831181729206\n"
     ]
    },
    {
     "data": {
      "text/plain": [
       "array([ 2.25328063e+01, -9.28146064e-01,  1.08156863e+00,  1.40899997e-01,\n",
       "        6.81739725e-01, -2.05671827e+00,  2.67423017e+00,  1.94660717e-02,\n",
       "       -3.10404426e+00,  2.66221764e+00, -2.07678168e+00, -2.06060666e+00,\n",
       "        8.49268418e-01, -3.74362713e+00])"
      ]
     },
     "execution_count": 24,
     "metadata": {},
     "output_type": "execute_result"
    }
   ],
   "source": [
    "new_weights = gradient_descent(standardised_boston_data, y, W, learning_rate= 0.0001)  \n",
    "new_weights"
   ]
  },
  {
   "cell_type": "markdown",
   "metadata": {},
   "source": [
    "**2. Plot a chart of predicted values vs actual values of your own SGD implementation**"
   ]
  },
  {
   "cell_type": "code",
   "execution_count": 26,
   "metadata": {
    "ExecuteTime": {
     "end_time": "2019-04-09T10:43:41.091581Z",
     "start_time": "2019-04-09T10:43:41.088606Z"
    }
   },
   "outputs": [],
   "source": [
    "y_pred_new = standardised_boston_data.dot(new_weights)\n",
    "#y_pred_new"
   ]
  },
  {
   "cell_type": "code",
   "execution_count": 61,
   "metadata": {
    "ExecuteTime": {
     "end_time": "2019-04-09T11:05:29.807568Z",
     "start_time": "2019-04-09T11:05:29.696242Z"
    }
   },
   "outputs": [
    {
     "data": {
      "image/png": "[encoded data removed]",
      "text/plain": [
       "<Figure size 432x288 with 1 Axes>"
      ]
     },
     "metadata": {},
     "output_type": "display_data"
    }
   ],
   "source": [
    "# code source:https://medium.com/@haydar_ai/learning-data-science-day-9-linear-regression-on-boston-housing-dataset-cd62a80775ef\n",
    "plt.scatter(y, y_pred_new)\n",
    "plt.xlabel(\"Prices: $Y_i$\")\n",
    "plt.ylabel(\"Predicted prices: $\\hat{Y}_i$\")\n",
    "plt.title(\"Our Implementation: Prices vs Predicted prices: $Y_i$ vs $\\hat{Y}_i$\")\n",
    "plt.show()"
   ]
  },
  {
   "cell_type": "code",
   "execution_count": 28,
   "metadata": {
    "ExecuteTime": {
     "end_time": "2019-04-09T10:44:38.535878Z",
     "start_time": "2019-04-09T10:44:37.638958Z"
    }
   },
   "outputs": [
    {
     "data": {
      "image/png": "[encoded data removed]",
      "text/plain": [
       "<Figure size 432x288 with 1 Axes>"
      ]
     },
     "metadata": {},
     "output_type": "display_data"
    }
   ],
   "source": [
    "delta_y = y - y_pred_new\n",
    "\n",
    "import seaborn as sns;\n",
    "import numpy as np;\n",
    "sns.set_style('whitegrid')\n",
    "sns.kdeplot(np.array(delta_y), bw=0.5)\n",
    "plt.show()"
   ]
  },
  {
   "cell_type": "code",
   "execution_count": 29,
   "metadata": {
    "ExecuteTime": {
     "end_time": "2019-04-09T10:45:03.076623Z",
     "start_time": "2019-04-09T10:45:02.998387Z"
    }
   },
   "outputs": [
    {
     "data": {
      "image/png": "[encoded data removed]",
      "text/plain": [
       "<Figure size 432x288 with 1 Axes>"
      ]
     },
     "metadata": {},
     "output_type": "display_data"
    }
   ],
   "source": [
    "sns.set_style('whitegrid')\n",
    "sns.kdeplot(np.array(y_pred_new), bw=0.5)\n",
    "plt.show()"
   ]
  },
  {
   "cell_type": "markdown",
   "metadata": {},
   "source": [
    "**3. Try sklearn SGDRegressor and plot a chart of predicted values vs actual values**"
   ]
  },
  {
   "cell_type": "code",
   "execution_count": 59,
   "metadata": {
    "ExecuteTime": {
     "end_time": "2019-04-09T11:04:31.780938Z",
     "start_time": "2019-04-09T11:04:31.776927Z"
    }
   },
   "outputs": [],
   "source": [
    "clf = SGDRegressor()\n",
    "clf.fit(standardised_boston_data, y)\n",
    "y_pred_sgd = clf.predict(standardised_boston_data)"
   ]
  },
  {
   "cell_type": "code",
   "execution_count": 62,
   "metadata": {
    "ExecuteTime": {
     "end_time": "2019-04-09T11:05:51.272838Z",
     "start_time": "2019-04-09T11:05:51.166048Z"
    }
   },
   "outputs": [
    {
     "data": {
      "image/png": "[encoded data removed]",
      "text/plain": [
       "<Figure size 432x288 with 1 Axes>"
      ]
     },
     "metadata": {},
     "output_type": "display_data"
    }
   ],
   "source": [
    "# code source:https://medium.com/@haydar_ai/learning-data-science-day-9-linear-regression-on-boston-housing-dataset-cd62a80775ef\n",
    "plt.scatter(y, y_pred_sgd)\n",
    "plt.xlabel(\"Prices: $Y_i$\")\n",
    "plt.ylabel(\"Predicted prices: $\\hat{Y}_i$\")\n",
    "plt.title(\"SGDRegressor Implementation: Prices vs Predicted prices: $Y_i$ vs $\\hat{Y}_i$\")\n",
    "plt.show()"
   ]
  },
  {
   "cell_type": "code",
   "execution_count": 63,
   "metadata": {
    "ExecuteTime": {
     "end_time": "2019-04-09T11:06:09.176814Z",
     "start_time": "2019-04-09T11:06:09.093567Z"
    }
   },
   "outputs": [
    {
     "data": {
      "image/png": "[encoded data removed]",
      "text/plain": [
       "<Figure size 432x288 with 1 Axes>"
      ]
     },
     "metadata": {},
     "output_type": "display_data"
    }
   ],
   "source": [
    "delta_y = y - y_pred_sgd\n",
    "\n",
    "import seaborn as sns;\n",
    "import numpy as np;\n",
    "sns.set_style('whitegrid')\n",
    "sns.kdeplot(np.array(delta_y), bw=0.5)\n",
    "plt.show()"
   ]
  },
  {
   "cell_type": "code",
   "execution_count": 65,
   "metadata": {
    "ExecuteTime": {
     "end_time": "2019-04-09T11:06:28.927822Z",
     "start_time": "2019-04-09T11:06:28.844718Z"
    }
   },
   "outputs": [
    {
     "data": {
      "image/png": "[encoded data removed]",
      "text/plain": [
       "<Figure size 432x288 with 1 Axes>"
      ]
     },
     "metadata": {},
     "output_type": "display_data"
    }
   ],
   "source": [
    "sns.set_style('whitegrid')\n",
    "sns.kdeplot(np.array(y_pred_sgd), bw=0.5)\n",
    "plt.show()"
   ]
  },
  {
   "cell_type": "markdown",
   "metadata": {},
   "source": [
    "**4. Compare weights from your implementation with SGDRegressor**"
   ]
  },
  {
   "cell_type": "code",
   "execution_count": 31,
   "metadata": {
    "ExecuteTime": {
     "end_time": "2019-04-09T10:48:32.390259Z",
     "start_time": "2019-04-09T10:48:32.386248Z"
    }
   },
   "outputs": [
    {
     "name": "stdout",
     "output_type": "stream",
     "text": [
      "[11.2174002  -0.66393316  0.7497664  -0.24136469  0.787859   -0.85339866\n",
      "  3.11119844 -0.29189204 -2.17892926  0.93258773 -0.68137105 -1.71991135\n",
      "  0.91874577 -3.41834437]\n"
     ]
    }
   ],
   "source": [
    "# Weights from SGDRegressor\n",
    "print(clf.coef_)"
   ]
  },
  {
   "cell_type": "code",
   "execution_count": 44,
   "metadata": {
    "ExecuteTime": {
     "end_time": "2019-04-09T10:55:28.479098Z",
     "start_time": "2019-04-09T10:55:28.474086Z"
    }
   },
   "outputs": [
    {
     "name": "stdout",
     "output_type": "stream",
     "text": [
      "+----------------------+----------------------+\n",
      "|  Predicted Weights   | SGDRegressor Weights |\n",
      "+----------------------+----------------------+\n",
      "|  22.532806324110666  |  11.217400204808976  |\n",
      "| -0.9281460643011963  | -0.6639331580390468  |\n",
      "|  1.0815686278223753  |  0.7497663951081511  |\n",
      "|  0.1408999969042694  | -0.2413646909656736  |\n",
      "|  0.6817397247778005  |  0.7878590018721183  |\n",
      "|  -2.056718266005212  | -0.8533986612431524  |\n",
      "|  2.6742301652393268  |  3.1111984444947542  |\n",
      "| 0.019466071657037825 | -0.2918920414447237  |\n",
      "| -3.1040442580864442  |  -2.178929263216641  |\n",
      "|  2.662217642473595   |  0.9325877305231811  |\n",
      "|  -2.07678168384335   | -0.6813710528512208  |\n",
      "| -2.0606066589067598  |  -1.71991135192851   |\n",
      "|  0.849268417705332   |  0.918745766920896   |\n",
      "| -3.7436271264671057  | -3.4183443738561174  |\n",
      "+----------------------+----------------------+\n"
     ]
    }
   ],
   "source": [
    "from prettytable import PrettyTable\n",
    "t1 = PrettyTable()\n",
    "#t1.field_names = ['Predicted Weights', 'SGDRegressor Weights']\n",
    "t1.add_column(\"Predicted Weights\", new_weights)\n",
    "t1.add_column('SGDRegressor Weights', clf.coef_)\n",
    "\n",
    "print(t1)    \n",
    "del t1"
   ]
  },
  {
   "cell_type": "markdown",
   "metadata": {},
   "source": [
    "**5. Compare MSE of your implementation and SGDRegressor**"
   ]
  },
  {
   "cell_type": "code",
   "execution_count": 58,
   "metadata": {
    "ExecuteTime": {
     "end_time": "2019-04-09T11:01:11.442902Z",
     "start_time": "2019-04-09T11:01:11.435883Z"
    }
   },
   "outputs": [
    {
     "name": "stdout",
     "output_type": "stream",
     "text": [
      "SGDRegressor MSE: 22.700680326716487\n",
      "Our SGD's MSE: 21.894831181729206\n"
     ]
    }
   ],
   "source": [
    "sgdregressor_mse = mean_squared_error(y, clf.predict(standardised_boston_data))\n",
    "print(\"SGDRegressor MSE: {}\".format(sgdregressor_mse))\n",
    "\n",
    "our_sgd_implementation = mean_squared_error(y_pred_new, y)\n",
    "print(\"Our SGD's MSE: {}\".format(our_sgd_implementation))"
   ]
  },
  {
   "cell_type": "markdown",
   "metadata": {},
   "source": [
    "**Conclusion:**\n",
    "\n",
    "* Without standardizing data, I ran into error but standardizing helped in convergence.\n",
    "* With 10000 and a learning rate of 0.0001, we got an MSE of 21.9 close to SGDRegressor's MSE of 22.70\n",
    "* Our SGD gave pretty much the same MSE for the Boston Housing Dataset.\n"
   ]
  },
  {
   "cell_type": "markdown",
   "metadata": {},
   "source": [
    "**Reading material:**\n",
    "\n",
    "* https://towardsdatascience.com/how-to-make-sgd-classifier-perform-as-well-as-logistic-regression-using-parfit-cc10bca2d3c4\n",
    "* https://towardsdatascience.com/epoch-vs-iterations-vs-batch-size-4dfb9c7ce9c9"
   ]
  }
 ],
 "metadata": {
  "hide_input": false,
  "kernelspec": {
   "display_name": "Python 3",
   "language": "python",
   "name": "python3"
  },
  "language_info": {
   "codemirror_mode": {
    "name": "ipython",
    "version": 3
   },
   "file_extension": ".py",
   "mimetype": "text/x-python",
   "name": "python",
   "nbconvert_exporter": "python",
   "pygments_lexer": "ipython3",
   "version": "3.6.5"
  },
  "notify_time": "5",
  "toc": {
   "base_numbering": 1,
   "nav_menu": {},
   "number_sections": true,
   "sideBar": true,
   "skip_h1_title": false,
   "title_cell": "Table of Contents",
   "title_sidebar": "Contents",
   "toc_cell": false,
   "toc_position": {},
   "toc_section_display": true,
   "toc_window_display": false
  },
  "varInspector": {
   "cols": {
    "lenName": 16,
    "lenType": 16,
    "lenVar": 40
   },
   "kernels_config": {
    "python": {
     "delete_cmd_postfix": "",
     "delete_cmd_prefix": "del ",
     "library": "var_list.py",
     "varRefreshCmd": "print(var_dic_list())"
    },
    "r": {
     "delete_cmd_postfix": ") ",
     "delete_cmd_prefix": "rm(",
     "library": "var_list.r",
     "varRefreshCmd": "cat(var_dic_list()) "
    }
   },
   "position": {
    "height": "498px",
    "left": "996px",
    "right": "20px",
    "top": "120px",
    "width": "355px"
   },
   "types_to_exclude": [
    "module",
    "function",
    "builtin_function_or_method",
    "instance",
    "_Feature"
   ],
   "window_display": false
  }
 },
 "nbformat": 4,
 "nbformat_minor": 2
}
